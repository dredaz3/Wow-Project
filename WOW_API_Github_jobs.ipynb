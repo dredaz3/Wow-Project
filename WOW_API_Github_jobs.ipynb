{
 "cells": [
  {
   "cell_type": "markdown",
   "metadata": {},
   "source": [
    "# Api for GitHub jobs Wow project"
   ]
  },
  {
   "cell_type": "markdown",
   "metadata": {},
   "source": [
    "## Import packages request and pprint"
   ]
  },
  {
   "cell_type": "code",
   "execution_count": 1,
   "metadata": {},
   "outputs": [],
   "source": [
    "import pandas as pd\n",
    "import json\n",
    "import requests\n",
    "import pprint"
   ]
  },
  {
   "cell_type": "code",
   "execution_count": 2,
   "metadata": {},
   "outputs": [],
   "source": [
    "r= requests.get('https://jobs.github.com/positions.json?{page}')\n"
   ]
  },
  {
   "cell_type": "code",
   "execution_count": null,
   "metadata": {},
   "outputs": [],
   "source": []
  },
  {
   "cell_type": "markdown",
   "metadata": {},
   "source": [
    "\n",
    "\n",
    "## While loop and for loop to iterate the data received from Api and parse the data i want to work with (company, title, location and url)"
   ]
  },
  {
   "cell_type": "code",
   "execution_count": 3,
   "metadata": {
    "scrolled": true
   },
   "outputs": [],
   "source": [
    "page = 1\n",
    "more_pages = True\n",
    "title = 'title'\n",
    "company = 'company'\n",
    "url = 'url'\n",
    "location = 'location'\n",
    "all_data = []\n",
    "\n",
    "while more_pages:\n",
    "    \n",
    "    r= requests.get(f'https://jobs.github.com/positions.json?page={page}')\n",
    "    \n",
    "    for HPS in r.json():\n",
    "        results = {\n",
    "        \"Company\" : HPS[company],\n",
    "        \"Title\": HPS[title],\n",
    "        \"Location\": HPS[location],\n",
    "         \"Url\": HPS[url]\n",
    "        \n",
    "        }\n",
    "        all_data.append(results)\n",
    "    \n",
    "    nextpage = requests.get(f'https://jobs.github.com/positions.json?page={page+1}')\n",
    "\n",
    "    if len(nextpage.json()) == 0:\n",
    "        more_pages = False\n",
    "            \n",
    "         \n",
    "    page+=1    \n",
    "        \n",
    "result = pd.DataFrame(all_data)\n",
    "result.to_csv('Jobs_GitHub.csv')\n",
    "    \n",
    "\n",
    "\n",
    "    "
   ]
  },
  {
   "cell_type": "code",
   "execution_count": 4,
   "metadata": {
    "scrolled": true
   },
   "outputs": [
    {
     "data": {
      "text/html": [
       "<div>\n",
       "<style scoped>\n",
       "    .dataframe tbody tr th:only-of-type {\n",
       "        vertical-align: middle;\n",
       "    }\n",
       "\n",
       "    .dataframe tbody tr th {\n",
       "        vertical-align: top;\n",
       "    }\n",
       "\n",
       "    .dataframe thead th {\n",
       "        text-align: right;\n",
       "    }\n",
       "</style>\n",
       "<table border=\"1\" class=\"dataframe\">\n",
       "  <thead>\n",
       "    <tr style=\"text-align: right;\">\n",
       "      <th></th>\n",
       "      <th>Unnamed: 0</th>\n",
       "      <th>Company</th>\n",
       "      <th>Title</th>\n",
       "      <th>Location</th>\n",
       "      <th>Url</th>\n",
       "    </tr>\n",
       "  </thead>\n",
       "  <tbody>\n",
       "    <tr>\n",
       "      <th>0</th>\n",
       "      <td>0</td>\n",
       "      <td>Channable</td>\n",
       "      <td>Python Software Enginer</td>\n",
       "      <td>Utrecht (The Netherlands)</td>\n",
       "      <td>https://jobs.github.com/positions/568f9a99-186...</td>\n",
       "    </tr>\n",
       "    <tr>\n",
       "      <th>1</th>\n",
       "      <td>1</td>\n",
       "      <td>ExpressVPN</td>\n",
       "      <td>API Engineer / API Developer</td>\n",
       "      <td>Singapore</td>\n",
       "      <td>https://jobs.github.com/positions/3c0a7081-3d1...</td>\n",
       "    </tr>\n",
       "    <tr>\n",
       "      <th>2</th>\n",
       "      <td>2</td>\n",
       "      <td>ExpressVPN</td>\n",
       "      <td>Server-side Software Developer</td>\n",
       "      <td>London / Poznan / Remote</td>\n",
       "      <td>https://jobs.github.com/positions/c05204de-9a3...</td>\n",
       "    </tr>\n",
       "    <tr>\n",
       "      <th>3</th>\n",
       "      <td>3</td>\n",
       "      <td>Playco</td>\n",
       "      <td>Core/Backend Engineer</td>\n",
       "      <td>Remote</td>\n",
       "      <td>https://jobs.github.com/positions/46ab84b4-12d...</td>\n",
       "    </tr>\n",
       "    <tr>\n",
       "      <th>4</th>\n",
       "      <td>4</td>\n",
       "      <td>PAI Health</td>\n",
       "      <td>Senior DevOps Engineer</td>\n",
       "      <td>Vancouver, British Columbia</td>\n",
       "      <td>https://jobs.github.com/positions/fbc2dac0-f27...</td>\n",
       "    </tr>\n",
       "    <tr>\n",
       "      <th>...</th>\n",
       "      <td>...</td>\n",
       "      <td>...</td>\n",
       "      <td>...</td>\n",
       "      <td>...</td>\n",
       "      <td>...</td>\n",
       "    </tr>\n",
       "    <tr>\n",
       "      <th>130</th>\n",
       "      <td>130</td>\n",
       "      <td>Prisma</td>\n",
       "      <td>Technical Lead: Control Plane</td>\n",
       "      <td>Remote, or Berlin (Germany)</td>\n",
       "      <td>https://jobs.github.com/positions/481a576c-a28...</td>\n",
       "    </tr>\n",
       "    <tr>\n",
       "      <th>131</th>\n",
       "      <td>131</td>\n",
       "      <td>Spear Technologies</td>\n",
       "      <td>Experienced Power Apps developer</td>\n",
       "      <td>remote - must be located in US</td>\n",
       "      <td>https://jobs.github.com/positions/efe2509d-a7c...</td>\n",
       "    </tr>\n",
       "    <tr>\n",
       "      <th>132</th>\n",
       "      <td>132</td>\n",
       "      <td>Fullstack</td>\n",
       "      <td>Fullstack Mobile Engineer (React Native)</td>\n",
       "      <td>Remote</td>\n",
       "      <td>https://jobs.github.com/positions/619735aa-7ba...</td>\n",
       "    </tr>\n",
       "    <tr>\n",
       "      <th>133</th>\n",
       "      <td>133</td>\n",
       "      <td>MILES Mobility GmbH</td>\n",
       "      <td>Frontend Engineer (f/m/x)</td>\n",
       "      <td>Berlin</td>\n",
       "      <td>https://jobs.github.com/positions/8732a0b3-2af...</td>\n",
       "    </tr>\n",
       "    <tr>\n",
       "      <th>134</th>\n",
       "      <td>134</td>\n",
       "      <td>TAUR</td>\n",
       "      <td>Senior Back End Developer</td>\n",
       "      <td>London</td>\n",
       "      <td>https://jobs.github.com/positions/7c329734-354...</td>\n",
       "    </tr>\n",
       "  </tbody>\n",
       "</table>\n",
       "<p>135 rows × 5 columns</p>\n",
       "</div>"
      ],
      "text/plain": [
       "     Unnamed: 0              Company  \\\n",
       "0             0           Channable    \n",
       "1             1           ExpressVPN   \n",
       "2             2           ExpressVPN   \n",
       "3             3               Playco   \n",
       "4             4           PAI Health   \n",
       "..          ...                  ...   \n",
       "130         130               Prisma   \n",
       "131         131   Spear Technologies   \n",
       "132         132            Fullstack   \n",
       "133         133  MILES Mobility GmbH   \n",
       "134         134                 TAUR   \n",
       "\n",
       "                                        Title                        Location  \\\n",
       "0                    Python Software Enginer        Utrecht (The Netherlands)   \n",
       "1                API Engineer / API Developer                       Singapore   \n",
       "2              Server-side Software Developer        London / Poznan / Remote   \n",
       "3                       Core/Backend Engineer                          Remote   \n",
       "4                      Senior DevOps Engineer     Vancouver, British Columbia   \n",
       "..                                        ...                             ...   \n",
       "130             Technical Lead: Control Plane     Remote, or Berlin (Germany)   \n",
       "131          Experienced Power Apps developer  remote - must be located in US   \n",
       "132  Fullstack Mobile Engineer (React Native)                          Remote   \n",
       "133                 Frontend Engineer (f/m/x)                          Berlin   \n",
       "134                 Senior Back End Developer                          London   \n",
       "\n",
       "                                                   Url  \n",
       "0    https://jobs.github.com/positions/568f9a99-186...  \n",
       "1    https://jobs.github.com/positions/3c0a7081-3d1...  \n",
       "2    https://jobs.github.com/positions/c05204de-9a3...  \n",
       "3    https://jobs.github.com/positions/46ab84b4-12d...  \n",
       "4    https://jobs.github.com/positions/fbc2dac0-f27...  \n",
       "..                                                 ...  \n",
       "130  https://jobs.github.com/positions/481a576c-a28...  \n",
       "131  https://jobs.github.com/positions/efe2509d-a7c...  \n",
       "132  https://jobs.github.com/positions/619735aa-7ba...  \n",
       "133  https://jobs.github.com/positions/8732a0b3-2af...  \n",
       "134  https://jobs.github.com/positions/7c329734-354...  \n",
       "\n",
       "[135 rows x 5 columns]"
      ]
     },
     "execution_count": 4,
     "metadata": {},
     "output_type": "execute_result"
    }
   ],
   "source": [
    "pd.read_csv('Jobs_GitHub.csv')"
   ]
  },
  {
   "cell_type": "code",
   "execution_count": 5,
   "metadata": {},
   "outputs": [
    {
     "name": "stdout",
     "output_type": "stream",
     "text": [
      "[{'Company': 'Superformula', 'Title': 'Senior Flutter Dev on a New Platform Team', 'Location': 'Seattle / Fully Remote', 'Url': 'https://jobs.github.com/positions/46b9cb14-243b-4f39-aa14-a4656263814a'}, {'Company': 'KFW ', 'Title': 'IT Solution Architect (w/m/d) Softwarearchitektur & -entwicklung', 'Location': 'Berlin', 'Url': 'https://jobs.github.com/positions/785da261-7ac6-4f73-9df0-4c85a8b48157'}, {'Company': 'Clariteia SL', 'Title': 'Senior Software Engineer', 'Location': 'Madrid', 'Url': 'https://jobs.github.com/positions/f24a72e0-fbe1-4575-a969-3ca27bfd60d3'}, {'Company': 'Cactus Communications', 'Title': 'Frontend Developer', 'Location': 'India', 'Url': 'https://jobs.github.com/positions/37ef38d2-7705-4432-b67f-f4860094d699'}, {'Company': 'BEENIC GmbH', 'Title': 'Senior Backend Engineer / Backend Developer Azure (mobile Applikationen) (m/w/d)', 'Location': 'Oldenburg', 'Url': 'https://jobs.github.com/positions/d01e0c7c-70cb-446b-808f-e2b1d12397ba'}, {'Company': 'BEENIC GmbH', 'Title': 'App Developer Android (m/w/d)', 'Location': 'Oldenburg', 'Url': 'https://jobs.github.com/positions/585c7956-ea10-4180-8991-e4efc600842e'}, {'Company': 'Trade Republic Bank GmbH', 'Title': 'Junior Android Engineer (m/f/d)', 'Location': 'Berlin', 'Url': 'https://jobs.github.com/positions/f6c53491-3159-4f16-85ac-4f360eac3427'}, {'Company': 'Trade Republic Bank GmbH', 'Title': 'Senior Android Engineer (m/f/d)', 'Location': 'Berlin', 'Url': 'https://jobs.github.com/positions/37f8909b-e165-4713-b3b2-5a1a98641bfd'}, {'Company': 'Rabobank', 'Title': 'Scrum Master IT', 'Location': 'Utrecht', 'Url': 'https://jobs.github.com/positions/e3b220e2-de89-4d83-bb66-a64744254a1f'}, {'Company': 'Marketcircle', 'Title': 'Senior Rails Developer', 'Location': 'Toronto, ON - REMOTE', 'Url': 'https://jobs.github.com/positions/acd6abe6-6931-4676-b902-3d6eb3b35cbc'}, {'Company': 'Kiron Open Higher Education gGmbH', 'Title': 'Software Engineer (Javascript, GraphQL & Positive Social Change)', 'Location': 'Berlin', 'Url': 'https://jobs.github.com/positions/01c2b3f1-a210-499e-8ed9-bf98e576b15b'}, {'Company': 'talentsconnect AG', 'Title': 'Chapter-Lead DevOps (w/m/d)', 'Location': 'Cologne, Germany', 'Url': 'https://jobs.github.com/positions/00e66b8d-2329-4e18-9225-a7dc0054f16a'}, {'Company': 'InnoGames GmbH', 'Title': 'Senior Mobile Game Developer (C++) - Forge of Empires', 'Location': 'Hamburg', 'Url': 'https://jobs.github.com/positions/068da99c-e3d5-4660-ac18-a90a49eb5663'}, {'Company': 'MapLarge, Inc.', 'Title': 'Senior Software Architect / Engineer who enjoys coding web services in c#', 'Location': 'United States', 'Url': 'https://jobs.github.com/positions/6ad65ab4-197e-4d05-b709-7674d448b031'}, {'Company': 'MapLarge', 'Title': 'Senior Full Stack .Net Web Application Developer', 'Location': 'United States', 'Url': 'https://jobs.github.com/positions/113e5b39-0d51-4010-8795-39e20be2f3f2'}, {'Company': 'MapLarge', 'Title': 'Lead Application Developer / Technical Project Manager', 'Location': 'United States', 'Url': 'https://jobs.github.com/positions/4516e97f-bbb0-4773-a9ec-cc8051f2a6a7'}, {'Company': 'Life.Church', 'Title': 'YouVersion Mobile Android ', 'Location': 'Edmond, Oklahoma', 'Url': 'https://jobs.github.com/positions/e3ea8dee-e47b-4459-ab95-9f170abab60e'}, {'Company': 'Isometric Technologies', 'Title': 'Full Stack Software Engineer', 'Location': 'San Francisco | Remote (US/Canada)', 'Url': 'https://jobs.github.com/positions/09c70af5-9906-4ecd-ad11-a15cc492e2ed'}, {'Company': 'EME Hive', 'Title': 'Infrastructure Engineer for Social Livestreaming App', 'Location': 'New York City', 'Url': 'https://jobs.github.com/positions/b1691d49-ee1d-4793-9c1d-7a10a9b8b84a'}, {'Company': 'Covestro Deutschland AG', 'Title': 'R&D Programmer (m/w/d)', 'Location': 'Leverkusen', 'Url': 'https://jobs.github.com/positions/96b44ca5-1d3b-42d5-83bd-f33afaea9279'}, {'Company': 'PGGM', 'Title': 'Lead Software Engineer', 'Location': 'Zeist', 'Url': 'https://jobs.github.com/positions/7377bda6-f665-4728-a0e1-4059d7d94280'}, {'Company': 'azeti GmbH', 'Title': 'Fullstack Entwickler (Kotlin, React)', 'Location': 'Berlin / Remote', 'Url': 'https://jobs.github.com/positions/4ee82287-3566-4cff-a926-09a83e5cc71b'}, {'Company': 'Rhenus Freight Network GmbH & Co. KG', 'Title': 'Senior Entwickler (w/m/d) Self-Contained-Systems', 'Location': 'Holzwickede', 'Url': 'https://jobs.github.com/positions/ce71734f-0c92-4057-8f07-93e51962465a'}, {'Company': 'Limango', 'Title': 'Backend Developer (m/w/d)', 'Location': 'München', 'Url': 'https://jobs.github.com/positions/459cf11a-ba8d-4c30-99f0-ec9971cbb731'}, {'Company': 'wundertax GmbH', 'Title': 'Senior Frontend Developer (m/f/d)', 'Location': 'Berlin', 'Url': 'https://jobs.github.com/positions/f9ed227f-5412-421c-8dc4-58ffd263493e'}, {'Company': 'wundertax GmbH', 'Title': 'Senior Backend Developer (m/f/d)', 'Location': 'Berlin', 'Url': 'https://jobs.github.com/positions/5199e140-35e8-4d5e-b8b7-2e7b7e744709'}, {'Company': 'eHealth Innovation @ UHN', 'Title': 'iOS Developer', 'Location': 'Toronto, Canada (or remote within Canada)', 'Url': 'https://jobs.github.com/positions/ff9219e4-6cb7-4e22-9beb-d660ef2edfb5'}, {'Company': 'Defendify', 'Title': 'Senior Full Stack Developer', 'Location': 'Portland, ME (Remote OK)', 'Url': 'https://jobs.github.com/positions/912fc53b-1b7f-427a-bc69-25f03b597f8c'}, {'Company': 'Renewi', 'Title': 'Infrastructure Designer', 'Location': 'eindhoven ', 'Url': 'https://jobs.github.com/positions/1ea82024-3a55-4a55-9a46-cb9c84220ce3'}, {'Company': 'LILLYDOO GmbH', 'Title': '(Senior) Frontend Developer (f/m/d)', 'Location': 'Frankfurt, Germany (remote within Germany)', 'Url': 'https://jobs.github.com/positions/c1c29e32-4caa-4831-89d6-ded3e6ca42f0'}, {'Company': 'StackFuel GmbH', 'Title': 'Head of Engineering [m/w/d]', 'Location': 'Berlin', 'Url': 'https://jobs.github.com/positions/e89d6f0e-59b4-4cd1-9b9f-5374877f8854'}, {'Company': 'Rabobank', 'Title': 'Junior CI/CD Engineer', 'Location': 'Croeselaan 18, 3521CB, Utrecht', 'Url': 'https://jobs.github.com/positions/9b316dca-5884-4a72-a053-47d745fdec3b'}, {'Company': 'Amazon Web Services AWS', 'Title': 'Senior Front-End Engineer', 'Location': 'Berlin', 'Url': 'https://jobs.github.com/positions/fddb7d4c-d7e0-4056-8d9a-89d5731f6a33'}, {'Company': 'Amenitiz', 'Title': 'Senior Backend Developer (RoR)', 'Location': 'Barcelona', 'Url': 'https://jobs.github.com/positions/286d8321-c5e5-4311-82b5-1756e5393199'}, {'Company': 'Amazon Web Services AWS', 'Title': 'Sr. Software Development Engineer - Amazon Redshift', 'Location': 'Berlin', 'Url': 'https://jobs.github.com/positions/41e6da3c-3667-472f-a78e-039614ec5c1d'}, {'Company': 'Amazon Web Services AWS', 'Title': 'Senior Software Development Engineer - AWS Billing', 'Location': 'Berlin', 'Url': 'https://jobs.github.com/positions/9f2b589e-76f2-4052-b17d-cd6fa046aa00'}, {'Company': 'Amazon Web Services AWS', 'Title': 'Senior Software Development Engineer - Amazon Web Services - Berlin (m/f)', 'Location': 'Berlin', 'Url': 'https://jobs.github.com/positions/de6af81b-f0fd-40d1-832c-3680fd56f6e0'}, {'Company': 'Amazon Web Services AWS', 'Title': 'Senior Software developer - Kernel Engineer', 'Location': 'Dresden', 'Url': 'https://jobs.github.com/positions/3270824f-79f4-4600-9dbd-915e8573f51e'}, {'Company': 'Amazon Web Services AWS', 'Title': 'Software Development Engineer - Amazon Redshift Spectrum', 'Location': 'Berlin', 'Url': 'https://jobs.github.com/positions/79544da5-c2e1-4a58-9141-887f82aff720'}, {'Company': 'Amazon Web Services AWS', 'Title': 'Software Development Engineer - Amazon Redshift SQL Compiler', 'Location': 'Berlin', 'Url': 'https://jobs.github.com/positions/acae0e98-7cbd-43d5-891a-3ada33637f76'}, {'Company': 'Amazon Web Services AWS', 'Title': 'Software Development Engineer – Backend – AWS Console Platform', 'Location': 'Berlin', 'Url': 'https://jobs.github.com/positions/2dd205cd-99cd-4d7d-9993-71b848758c01'}, {'Company': 'Amazon Web Services AWS', 'Title': 'Software Development Engineer', 'Location': 'Dresden', 'Url': 'https://jobs.github.com/positions/6a1b8822-cf30-478f-887a-a989fff53b31'}, {'Company': 'Amazon Web Services AWS', 'Title': 'Software Development Engineer - AWS Identity', 'Location': 'Berlin', 'Url': 'https://jobs.github.com/positions/33f85014-0510-47d6-9fe6-7e8134a246b2'}, {'Company': 'Amazon Web Services AWS', 'Title': 'Sr. Software Development Engineer - AWS', 'Location': 'Aachen', 'Url': 'https://jobs.github.com/positions/24a037f5-0fc6-45f2-8288-90ee484d741c'}, {'Company': 'Renewi', 'Title': 'Salesforce Tester', 'Location': 'Eindhoven ', 'Url': 'https://jobs.github.com/positions/beeb797b-1793-4de4-a72c-96cb638ce7f0'}, {'Company': 'bene : studio', 'Title': 'Senior React & Node Engineer (Remote / Relocation to European Union)', 'Location': 'Budapest', 'Url': 'https://jobs.github.com/positions/86fb6ad3-abc3-4ac7-aa02-54514d45c456'}, {'Company': 'Usercentrics GmbH', 'Title': 'UI Team Lead Software Engineer ( React or Angular ) (m / f / d)', 'Location': 'Munch Germany ', 'Url': 'https://jobs.github.com/positions/ea2899d5-c9ca-40cd-b5ca-4221714c03f7'}, {'Company': 'Pinpoint', 'Title': 'Senior Software Developer (Rails & React)', 'Location': 'St. Helier, Jersey', 'Url': 'https://jobs.github.com/positions/9e6f0ccf-69dc-4a58-8b75-ecb4a81eed25'}, {'Company': 'Usercentrics GmbH', 'Title': 'Senior Software Engineer ( React ) (m / f / d)', 'Location': 'Munich Germany', 'Url': 'https://jobs.github.com/positions/23142439-c599-420c-a456-2af883055b77'}, {'Company': 'Canon Medical Research USA, Inc.', 'Title': 'Senior/Principal Embedded Software Engineer (CT)', 'Location': 'Vernon Hills, IL (Chicago)', 'Url': 'https://jobs.github.com/positions/0bbcbdda-acf3-490a-9903-f3b711d0b8d8'}, {'Company': 'Frontline Wildfire', 'Title': 'Senior Software Engineer', 'Location': 'Remote (US Pacific TZ)', 'Url': 'https://jobs.github.com/positions/dfa9f75c-7be5-449c-a152-c3eabf915223'}, {'Company': 'Linqto, Inc.', 'Title': 'Senior Software Engineer', 'Location': 'Remote in U.S.', 'Url': 'https://jobs.github.com/positions/1d837bd6-9265-4a88-bc9d-9cbc07908857'}, {'Company': 'LogicFlow AG', 'Title': 'LogicFlow AG', 'Location': 'Zurich', 'Url': 'https://jobs.github.com/positions/04c55caa-3e46-42ae-94e9-05163eb5dd3e'}, {'Company': 'Shell Business operations, Chennai', 'Title': 'Associate Data Scientist', 'Location': 'Chennai', 'Url': 'https://jobs.github.com/positions/c2beb2b6-9190-4ca7-b0ca-7804b768dc87'}, {'Company': 'Shell Business operations, Chennai', 'Title': 'Data Scientist - Retail', 'Location': 'Chennai', 'Url': 'https://jobs.github.com/positions/2315d8ae-9e9b-4b73-a98e-8c383cdf532e'}, {'Company': 'Shell Business operations, Bangalore', 'Title': 'Full Stack Engineer', 'Location': 'Bangalore', 'Url': 'https://jobs.github.com/positions/3fc15bd7-3217-4526-a805-2a48364c5a11'}, {'Company': 'Universiteit Utrecht ', 'Title': 'Research Engineer (0.8 - 1.0 FTE)', 'Location': 'Utrecht ', 'Url': 'https://jobs.github.com/positions/247ed817-b1e5-4b2c-b9eb-3733b69aefb8'}, {'Company': 'Shell Business operations, Bangalore', 'Title': 'Machine Learning Engineer', 'Location': 'Bangalore', 'Url': 'https://jobs.github.com/positions/03f76ce2-213b-43aa-8127-7e6885a08a28'}, {'Company': 'Shell Business operations, Chennai', 'Title': 'Data Science Team Lead', 'Location': 'Chennai', 'Url': 'https://jobs.github.com/positions/9cc73009-b73d-4ed0-a6b3-7da236236464'}, {'Company': 'Farmy AG', 'Title': 'Ruby on Rails Platform Team-Lead', 'Location': 'Barcelona', 'Url': 'https://jobs.github.com/positions/cd7378a6-5fe3-4cf2-a55f-3726f850813b'}, {'Company': 'Shell Business operations, Bangalore', 'Title': 'Sr. Machine Learning Engineer', 'Location': 'Bangalore', 'Url': 'https://jobs.github.com/positions/e0714497-d1b7-4411-b6b6-39cf49bc3a24'}, {'Company': 'Shell India Markets Pvt. Ltd.', 'Title': 'HPC & AI Resident', 'Location': 'Bangalore', 'Url': 'https://jobs.github.com/positions/6c5e30ab-4485-4505-8693-8056bacefb47'}, {'Company': 'Bayerischer Rundfunk', 'Title': 'Senior Mobile Developer (m/w/d) in Vollzeit/Teilzeit', 'Location': 'München', 'Url': 'https://jobs.github.com/positions/77e4b693-ce7d-49c9-973c-8313c2c03018'}, {'Company': 'Alakaina Foundation Family of Companies', 'Title': 'Data Center Engineer/Virtualization Architect', 'Location': 'Fort Gordon, GA', 'Url': 'https://jobs.github.com/positions/6c83f405-17ba-48c1-a748-c372852a153b'}, {'Company': 'Atmosphere TV', 'Title': 'DevOps Engineer', 'Location': 'Austin, TX', 'Url': 'https://jobs.github.com/positions/42318b2e-ce14-468f-a6fc-c39e0cdef359'}, {'Company': 'Limango', 'Title': 'Backend Developer (m/w/d) Operations', 'Location': 'Munich', 'Url': 'https://jobs.github.com/positions/5acc3a35-6684-4d2a-9142-adc6bfac53e4'}, {'Company': 'Container xChange', 'Title': 'Software Engineer (Java, Angular) (f/m/d)', 'Location': 'Hamburg', 'Url': 'https://jobs.github.com/positions/99481c34-2348-4881-81b4-588fd3ea4640'}, {'Company': 'Royal FloraHolland Aalsmeer', 'Title': 'Infrastructure Architect', 'Location': 'Aalsmeer', 'Url': 'https://jobs.github.com/positions/61140587-9828-47ab-af19-7cf7b42e905d'}, {'Company': 'Exact', 'Title': 'Senior Software Engineer .NET', 'Location': 'Delft', 'Url': 'https://jobs.github.com/positions/045efb98-2e50-41dc-971a-1ea9a90a3ddc'}, {'Company': 'Hubble_s', 'Title': 'Full Stack Developer', 'Location': 'Europe (remote)', 'Url': 'https://jobs.github.com/positions/bcf29c85-8bb5-4663-9d55-f12b1349f624'}, {'Company': 'talentsconnect AG', 'Title': 'Senior Full Stack Java Developer (w/m/d)', 'Location': 'Cologne, Germany', 'Url': 'https://jobs.github.com/positions/102e22a9-af03-4d21-b0c9-6c40063d26e1'}, {'Company': 'Flyclops', 'Title': 'Senior Software Engineer', 'Location': 'Philadelphia', 'Url': 'https://jobs.github.com/positions/953e8a4f-cf2c-4015-a544-3f7cbb5d8e03'}, {'Company': 'Atlantic Food Labs GmbH', 'Title': 'Co-Founder & CTO (m,f,x)', 'Location': 'Berlin', 'Url': 'https://jobs.github.com/positions/62abf53b-bd52-48dd-b014-acc28c63bdd1'}, {'Company': 'DoctorBox GmbH', 'Title': 'iOS Developer (f/m/d)', 'Location': 'Berlin', 'Url': 'https://jobs.github.com/positions/cec4fc5b-3d4b-4014-8c96-470e93504c02'}, {'Company': 'Raycast', 'Title': 'Developer Advocate', 'Location': 'Remote, EU', 'Url': 'https://jobs.github.com/positions/4621ed62-9f09-4d25-8694-24291ccde35c'}, {'Company': 'Microsoft', 'Title': 'Microsoft Software Engineer. Dublin, Ireland.', 'Location': 'Dublin, Ireland', 'Url': 'https://jobs.github.com/positions/aa5a4c42-7a7a-4513-9de6-a0daeba36d87'}, {'Company': 'Impala', 'Title': 'Frontend Developer', 'Location': 'Europe (remote)', 'Url': 'https://jobs.github.com/positions/db414a07-d403-44c2-a6c4-d560cbb3fb10'}, {'Company': 'Heritage Type Co.', 'Title': '(Senior) Software Engineer - Frontend', 'Location': 'Berlin', 'Url': 'https://jobs.github.com/positions/a0d95d16-02bf-4080-ae0f-fdf73c4db555'}, {'Company': 'E Shells Inc.', 'Title': 'Senior Front End Designer/Developer Needed - Shells.com', 'Location': 'Los Angeles/Partially Remote', 'Url': 'https://jobs.github.com/positions/10dddabd-2b7d-4503-b70b-30f1a78b464b'}, {'Company': 'Quorum Analytics', 'Title': 'DevOps Engineer', 'Location': 'Washington, DC', 'Url': 'https://jobs.github.com/positions/c5841d41-9b70-4eb4-b4ff-2059ebed179c'}, {'Company': 'ACS TECHNOLOGIES GROUP  INC.', 'Title': 'Software Engineer - Lead', 'Location': 'Greenville, SC', 'Url': 'https://jobs.github.com/positions/f818819b-ff4c-46c9-acf2-798a8d32f4f3'}, {'Company': 'GOhiring GmbH', 'Title': 'Senior fullstack developer React / Ruby', 'Location': 'Berlin | Remote', 'Url': 'https://jobs.github.com/positions/22e9ee02-45c6-4e96-bcc3-c72db00185fc'}, {'Company': 'Datica, Inc', 'Title': 'Software Engineer', 'Location': 'United States', 'Url': 'https://jobs.github.com/positions/e7892a26-7417-4e50-9d12-568c34a002c3'}, {'Company': 'Potato London Ltd', 'Title': 'Python / Django Engineer ', 'Location': 'London', 'Url': 'https://jobs.github.com/positions/d5fec958-5aca-4d12-9d56-1a61e66fba60'}, {'Company': 'Rightmove', 'Title': 'Backend Developer - Rightmove.co.uk', 'Location': 'Soho, London', 'Url': 'https://jobs.github.com/positions/392ff0d0-e5c9-4624-be45-dff8c21a2351'}, {'Company': 'Axios', 'Title': 'Senior Mobile Engineer (React Native)', 'Location': 'Remote (USA)', 'Url': 'https://jobs.github.com/positions/445acbc9-9ca0-409b-b460-66619d3e4135'}, {'Company': 'Raycast', 'Title': 'Software Engineer, macOS', 'Location': 'Remote, EU', 'Url': 'https://jobs.github.com/positions/9cebff17-8be6-466b-acff-dd5e0a083ac8'}, {'Company': 'Raycast', 'Title': 'Software Engineer, Fullstack', 'Location': 'Remote, EU', 'Url': 'https://jobs.github.com/positions/1f925d62-ab2e-4700-b36b-767378fabc07'}, {'Company': 'api.video', 'Title': '[CDI] Full Stack Developer', 'Location': 'Bordeaux, NAQ, FR', 'Url': 'https://jobs.github.com/positions/1e68cdbf-b0ce-40e6-8a83-3124bbb69edb'}, {'Company': 'Humanitec', 'Title': 'Principal Backend Engineer', 'Location': 'Berlin', 'Url': 'https://jobs.github.com/positions/77208332-72c3-4c82-8ee8-59fe3f1535f0'}, {'Company': 'Oregon State University - Ecampus', 'Title': 'Analyst Programmer', 'Location': 'Corvallis, OR', 'Url': 'https://jobs.github.com/positions/c7b8f1e2-57bc-4af7-846e-194063bb5862'}, {'Company': '7 Chord', 'Title': 'Machine Learning Engineer - Trading', 'Location': 'New York', 'Url': 'https://jobs.github.com/positions/954ab75e-a886-49cd-9c75-33013e4b048d'}, {'Company': 'Pinguin AG', 'Title': 'Frontend Developer (m/f/d)', 'Location': 'Berlin', 'Url': 'https://jobs.github.com/positions/78695122-a4ea-4d86-95c0-c14c0ab0d77d'}, {'Company': 'SoundCloud', 'Title': 'Principal Data Scientist (f/m/d)', 'Location': 'Berlin', 'Url': 'https://jobs.github.com/positions/11db89a9-5b43-4deb-9780-81b3deb46005'}, {'Company': 'SoundCloud', 'Title': 'Principal Data Architect (f/m/d)', 'Location': 'Berlin', 'Url': 'https://jobs.github.com/positions/00bcd48b-d062-4db7-9971-ea18ec6c563c'}, {'Company': 'Integrationsbolaget', 'Title': 'Lösningsarkitekt till Integrationsbolaget', 'Location': 'Örebro', 'Url': 'https://jobs.github.com/positions/d92fc65c-68f6-431a-b537-85d6048d9241'}, {'Company': 'Integrationsbolaget', 'Title': 'Lösningsarkitekt till Integrationsbolaget', 'Location': 'Stockholm', 'Url': 'https://jobs.github.com/positions/a1802589-84c1-425d-a667-9ec8efeaa8e0'}, {'Company': 'Delicious Data GmbH', 'Title': 'Machine Learning Engineer (f/m/d)', 'Location': 'Garching, Munich', 'Url': 'https://jobs.github.com/positions/83cd5517-5c26-4e05-9988-716dd5978712'}, {'Company': 'Piktochart', 'Title': 'Frontend Software Engineer Tech Lead (Europe/Asia)', 'Location': 'Remote', 'Url': 'https://jobs.github.com/positions/5dd449ae-452f-45d2-8c34-dcf8cca3a118'}, {'Company': 'Avante IO Inc.', 'Title': 'Senior Full-Stack Developer', 'Location': 'remote', 'Url': 'https://jobs.github.com/positions/9c9bf26c-747c-4a2a-881a-4be19cb8909c'}, {'Company': 'Bright Cellars', 'Title': 'Full Stack Engineer (React, Python)', 'Location': 'Remote (USA)', 'Url': 'https://jobs.github.com/positions/a38eb19d-6451-420e-a1f7-f78979701a3a'}, {'Company': 'Intelligence Group', 'Title': 'Frontend Developer JS', 'Location': 'Rotterdam (the Netherlands)', 'Url': 'https://jobs.github.com/positions/380dbebc-31cc-4900-87a8-3625ff6fb22e'}, {'Company': 'ACTC GmbH tigha', 'Title': 'WEB DEVELOPER FRONTEND / BACKEND (M/F/X)', 'Location': 'Düsseldorf', 'Url': 'https://jobs.github.com/positions/32c6c288-d2d7-44da-bb86-e309091569af'}, {'Company': 'InnoGames GmbH', 'Title': 'Mobile Software Developer (C++) - Video Game: Forge of Empires', 'Location': 'Hamburg', 'Url': 'https://jobs.github.com/positions/f24dd505-4a18-4e66-8e41-4dd38ac79bc6'}, {'Company': 'VendNovation', 'Title': 'Ember.js - Lead Web Application/UX Developer', 'Location': 'Redmond, WA', 'Url': 'https://jobs.github.com/positions/cfd34f2b-d4ff-44f6-abb4-4062c7c8bdeb'}, {'Company': 'ChannelEngine.com B.V.', 'Title': ' DevOps engineer ', 'Location': 'Leiden', 'Url': 'https://jobs.github.com/positions/6b0acdbd-c94a-42bd-ad64-b2aa59f34407'}, {'Company': 'Wonder', 'Title': 'Engineering Manager (f/m/d)', 'Location': 'Berlin, BE, DE', 'Url': 'https://jobs.github.com/positions/68633180-4186-42f7-ab28-2b762a3bf794'}, {'Company': 'api.video', 'Title': 'Developer Advocate', 'Location': 'Bordeaux, NAQ, FR', 'Url': 'https://jobs.github.com/positions/7b329931-be72-463e-ae62-3cd4c2323b64'}, {'Company': 'AXIOS', 'Title': 'Director of Engineering', 'Location': 'Remote (USA)', 'Url': 'https://jobs.github.com/positions/a3fb4556-a1be-48dc-b4da-e3f439560ab5'}, {'Company': 'QSC, LLC', 'Title': 'Senior Software Engineer', 'Location': 'Boulder, CO', 'Url': 'https://jobs.github.com/positions/8a2e3d35-65ba-411d-9952-2e1940b73a4a'}, {'Company': 'QSC, LLC', 'Title': 'Quality Engineer', 'Location': 'Costa Mesa, CA', 'Url': 'https://jobs.github.com/positions/26507d9e-8c9f-48ec-ba24-bee590c1b49a'}, {'Company': 'Interaction Design Foundation', 'Title': 'Senior PHP Developer (Laravel)', 'Location': 'Remote', 'Url': 'https://jobs.github.com/positions/492cb2e4-087c-469e-906b-f8ae01a819f0'}, {'Company': 'Nisum', 'Title': 'UI Technical Lead', 'Location': 'San Francisco', 'Url': 'https://jobs.github.com/positions/3c76cd64-2149-4f3f-8fbd-b3e547ea2b52'}, {'Company': 'Nebo Agency', 'Title': 'Front-End Engineer', 'Location': 'Atlanta, GA', 'Url': 'https://jobs.github.com/positions/50846e5f-fc5d-465d-9796-e15d7e3cb917'}, {'Company': 'Chess.com', 'Title': 'Cloud Engineer / SysOps / Big Data for Millions of Chess Players!', 'Location': 'Remote', 'Url': 'https://jobs.github.com/positions/f27c78a0-7976-452e-a4bc-3e25b86b50b2'}, {'Company': 'Bublup, Inc.', 'Title': 'Senior Angular/Angular JS Developer', 'Location': 'Arlington, VA (or remote)', 'Url': 'https://jobs.github.com/positions/c2c8325c-1eb9-48d5-bd0d-2d225b1db6e5'}, {'Company': 'Activated Insights', 'Title': 'Senior Engineer (Lead) - Software Engineering - REMOTE ', 'Location': 'Remote', 'Url': 'https://jobs.github.com/positions/cb22cac2-f8f9-4d1b-8802-6f05bb3c3247'}, {'Company': 'Pagaya', 'Title': 'Data Engineer Tech Lead', 'Location': 'Tel Aviv', 'Url': 'https://jobs.github.com/positions/cc872898-ec1f-4602-b1af-b2616307b74c'}, {'Company': 'Pon Digital Solutions', 'Title': 'Senior Front End Developer', 'Location': 'Zuiderslag 2, 3833 BP, Leusden', 'Url': 'https://jobs.github.com/positions/79ef9c3e-487f-4b0e-8fbf-9af66542b3f1'}, {'Company': 'AXIOS', 'Title': 'Engineering Manager (Front-End)', 'Location': 'New York, NY | Arlington, VA | Remote (US)', 'Url': 'https://jobs.github.com/positions/84ce113a-e72f-409e-a54c-965d39372a27'}, {'Company': 'Axios', 'Title': 'Senior Mobile Engineer (React Native)', 'Location': 'Remote (USA)', 'Url': 'https://jobs.github.com/positions/90ea52d5-230d-4f82-a406-aa7fba7af0f2'}, {'Company': 'Concert Health', 'Title': 'Senior Salesforce Developer', 'Location': 'Remote', 'Url': 'https://jobs.github.com/positions/0a6c6784-fc9f-4812-884f-00a6bf6f5bad'}, {'Company': 'Agiloft', 'Title': 'Senior Integration Developer (Remote, Outside US)', 'Location': 'Kyiv, Ukraine, Budapest, Hungary, Russia, India, Philippines', 'Url': 'https://jobs.github.com/positions/ff3ea8e4-57e4-4fc6-a7c5-6c2c9ab36def'}, {'Company': 'Localist', 'Title': 'Full Stack Ruby Developer', 'Location': 'Remote', 'Url': 'https://jobs.github.com/positions/35653573-d7f2-4489-94ea-ce446ecdf465'}, {'Company': 'Sticker Mule', 'Title': 'Go engineer', 'Location': 'Anywhere', 'Url': 'https://jobs.github.com/positions/5d0830f9-bd16-4432-93c2-6ceca815b4c1'}, {'Company': 'Onemedia Consulting GmbH', 'Title': 'Senior UI Engineer, React (Typescript)', 'Location': 'Munich', 'Url': 'https://jobs.github.com/positions/b3cd3c4d-90a2-4546-bdcc-87e09cc0143d'}, {'Company': 'InnoGames GmbH', 'Title': 'Frontend Developer (Haxe) - Video Game: Forge of Empires', 'Location': 'Hamburg', 'Url': 'https://jobs.github.com/positions/2dcc5f63-2d79-42fe-b2d1-d3a0a7a33459'}, {'Company': 'Sky and Ray', 'Title': 'Full Stack Developer (Mid-Level or Senior) ', 'Location': 'North America', 'Url': 'https://jobs.github.com/positions/fc91fd74-104d-4d9b-ba0b-b8a31d6ee298'}, {'Company': 'Lightmatter', 'Title': 'Hiring Senior & Mid Software Engineers', 'Location': 'NYC / Remote', 'Url': 'https://jobs.github.com/positions/0a05fd26-b873-4641-bb0c-ba9ea66e18b2'}, {'Company': 'Oviavo GmbH', 'Title': '(Senior) Frontend / Fullstack Developer (w/m/d) onsite Berlin', 'Location': 'Berlin', 'Url': 'https://jobs.github.com/positions/eca51a03-d3e1-42d2-b718-1142b3199826'}, {'Company': 'Upserve', 'Title': 'Principal Frontend Engineer', 'Location': 'Remote', 'Url': 'https://jobs.github.com/positions/315ce7c1-2ec0-4141-b012-907a05d0084c'}, {'Company': 'Lampenwelt GmbH', 'Title': 'NodeJS (TypeScript) Software Engineer (m/w/x)', 'Location': 'Remote', 'Url': 'https://jobs.github.com/positions/d5c03285-37e2-4c82-8af5-a67e84e9d593'}, {'Company': 'Ocado Technology', 'Title': 'Software Engineer Team Leader (Java Integration Team)', 'Location': 'Sofia', 'Url': 'https://jobs.github.com/positions/bc17e8e8-1317-4d79-b4b0-19e0bf59d36a'}, {'Company': 'Marble', 'Title': 'Director, Engineering', 'Location': 'New York', 'Url': 'https://jobs.github.com/positions/6b9dce23-5790-46eb-9fbe-8090704eecef'}, {'Company': 'TCGplayer', 'Title': 'Site Reliability Engineer', 'Location': 'Remote', 'Url': 'https://jobs.github.com/positions/28645222-6a24-4868-a620-ed04e68dfcd2'}, {'Company': 'TCGplayer', 'Title': 'Senior Data Engineer', 'Location': 'Remote', 'Url': 'https://jobs.github.com/positions/1bb36e17-5a2a-4cf3-84cd-607ed74ee249'}, {'Company': 'Osso VR', 'Title': 'Software Engineer (Remote Only, US preferred)', 'Location': 'US', 'Url': 'https://jobs.github.com/positions/204a4886-9e3c-4a8b-8c7f-61542b5ebb01'}, {'Company': 'https://www.bci.ca/', 'Title': 'Senior Data Scientist', 'Location': 'Victoria', 'Url': 'https://jobs.github.com/positions/2b2760d1-8894-4e81-8708-a404cff1420f'}, {'Company': 'Prisma', 'Title': 'Technical Lead: Control Plane', 'Location': 'Remote, or Berlin (Germany)', 'Url': 'https://jobs.github.com/positions/94ebabe6-d994-458d-99c5-3c93a8406a5d'}, {'Company': 'TED Conferences', 'Title': 'Principal Product Designer', 'Location': 'Remote', 'Url': 'https://jobs.github.com/positions/4980a2d8-8f6e-4333-a036-2b0ea0b466fc'}, {'Company': 'TED Conferences', 'Title': 'Director of Product Management and Design', 'Location': 'Remote', 'Url': 'https://jobs.github.com/positions/02a740b1-8e97-4d2f-97da-ebc5ea353570'}, {'Company': 'Genpact', 'Title': 'Principal Consultant- UI with React, Node & JS', 'Location': 'Mexico', 'Url': 'https://jobs.github.com/positions/7d3e4594-45b9-48c6-903c-8848616054dd'}, {'Company': 'Genpact', 'Title': 'Lead Consultant- UI with React, Node & JS', 'Location': 'Capital Markets, CA', 'Url': 'https://jobs.github.com/positions/850b3736-5119-46a1-95f9-897b94e78cbb'}, {'Company': 'Genpact', 'Title': 'Principal Consultant- UI with React, Node & JS', 'Location': 'San Jose, Costa Rica', 'Url': 'https://jobs.github.com/positions/c3eb13ab-8fbe-4f5c-9c89-73f5f96d4fd7'}, {'Company': 'Genpact', 'Title': 'Lead Consultant- UI with React, Node & JS', 'Location': 'Guatemala', 'Url': 'https://jobs.github.com/positions/25e7a9a7-73a3-4ad5-b365-8a71684a534f'}, {'Company': 'Horizn Studios', 'Title': 'Senior Full Stack Developer (m/f/d)', 'Location': 'Berlin', 'Url': 'https://jobs.github.com/positions/25801dc0-1c2b-4f7a-ad8c-93f90d6039f7'}, {'Company': 'ti&m', 'Title': 'Senior Cloud Developer Java (Azure, Google Cloud Platform, AWS)', 'Location': 'Zürich, Schweiz ', 'Url': 'https://jobs.github.com/positions/31a4dc23-ab77-435f-85a8-259b1895998b'}, {'Company': 'Oregon State University', 'Title': 'Analyst Programmer 3 - Senior Web Developer', 'Location': 'Corvallis, OR', 'Url': 'https://jobs.github.com/positions/8e45a8f8-3da9-4493-a8d3-bc323f7727fc'}, {'Company': 'Gemini', 'Title': 'Principal Product Security Engineer', 'Location': 'San Francisco, CA', 'Url': 'https://jobs.github.com/positions/90ba4a23-0d5e-4bde-a294-32a8f0e58ab4'}, {'Company': 'Gemini', 'Title': 'Senior Security Engineer', 'Location': 'San Francisco, CA', 'Url': 'https://jobs.github.com/positions/1301c4ee-a659-41c1-9906-45b084b7d639'}, {'Company': 'Gemini', 'Title': 'Site Reliability Engineer (SRE)', 'Location': 'San Francisco, CA', 'Url': 'https://jobs.github.com/positions/1bf39cd4-8658-4f56-ab7f-047c15a83604'}, {'Company': 'Gemini', 'Title': 'Senior Software Engineer', 'Location': 'San Francisco, CA', 'Url': 'https://jobs.github.com/positions/184a48c1-0efc-4a0d-aede-dca01e694d6c'}, {'Company': 'Protenus', 'Title': 'Senior Front-End Software Engineer', 'Location': 'Baltimore, MD or U.S. Remote', 'Url': 'https://jobs.github.com/positions/072283ab-d749-4b27-9080-a82451befec7'}, {'Company': 'NavVis GmbH', 'Title': 'Staff Software Engineer Full Stack (TypeScript, Angular, Java, Spring) (F/M/D)', 'Location': 'Munich', 'Url': 'https://jobs.github.com/positions/a63e6688-574b-44c2-b5ec-ca371451d69d'}, {'Company': 'SetSail', 'Title': 'DevOps Engineer', 'Location': 'Remote (US or Canada)', 'Url': 'https://jobs.github.com/positions/08f2c3af-31e9-4b28-893b-3a31bf117fdd'}, {'Company': 'Pixability', 'Title': 'Software Support Lead Engineer', 'Location': 'Remote (US or Canada)', 'Url': 'https://jobs.github.com/positions/80dfbbfd-c575-4bf6-9abb-5f8a7150c37e'}, {'Company': 'Deli Home', 'Title': 'Software Engineer Backend', 'Location': 'Lačnov', 'Url': 'https://jobs.github.com/positions/b46aced7-dbe0-4375-b8f8-28126fa580d4'}, {'Company': 'Siemens AG', 'Title': 'Virtualization Infrastructure Architect (m/f/d) HCI', 'Location': 'Germany', 'Url': 'https://jobs.github.com/positions/a5c60555-57a9-45c5-b543-70bc7a316c07'}, {'Company': 'Bryq', 'Title': 'Front-end/React Engineer', 'Location': 'Remote', 'Url': 'https://jobs.github.com/positions/f4925f6c-ffb6-42a8-b1cb-77056d18a258'}, {'Company': 'HelloBetter', 'Title': 'Lead Mobile Developer (m/f/x)', 'Location': 'Berlin', 'Url': 'https://jobs.github.com/positions/9a2eeefa-b9a1-44a0-856b-c1a26efd22fc'}, {'Company': 'Software Improvement Group', 'Title': 'Senior Full Stack Developer', 'Location': 'Amsterdam', 'Url': 'https://jobs.github.com/positions/281ce6ff-087f-4d93-b1a7-64e43c196eb5'}, {'Company': 'Aiva Health', 'Title': 'Go Engineer', 'Location': 'Los Angeles', 'Url': 'https://jobs.github.com/positions/7468028c-24dd-47e5-8e3f-b245455a1b47'}, {'Company': 'Airteam', 'Title': 'Senior Javascript Developer (Sydney or remote anywhere in Australia)', 'Location': 'Australia', 'Url': 'https://jobs.github.com/positions/75a355e2-36b5-4067-ae3e-a6a0b7c6087e'}, {'Company': 'Synedat Consulting GmbH', 'Title': 'IT-Architekt Manager (m/w/d)', 'Location': 'Helmstedt', 'Url': 'https://jobs.github.com/positions/6453c3a6-7fc0-4e22-8afc-23eb036e96a2'}, {'Company': 'InnoGames GmbH', 'Title': 'Java Software Developer - Core Team', 'Location': 'Hamburg', 'Url': 'https://jobs.github.com/positions/ffe637f1-6031-434f-bc6a-4cda0fa42045'}, {'Company': 'Playco', 'Title': 'Senior Fullstack Engineer', 'Location': 'Remote', 'Url': 'https://jobs.github.com/positions/46ab84b4-12dc-4a95-ab08-422428554dfc'}, {'Company': 'Whizora', 'Title': ' Full-Stack Application Developer', 'Location': 'Remote', 'Url': 'https://jobs.github.com/positions/b915a744-6f60-4f7b-a8b3-ea8086124ef1'}]\n"
     ]
    }
   ],
   "source": [
    "print(all_data)"
   ]
  },
  {
   "cell_type": "code",
   "execution_count": null,
   "metadata": {},
   "outputs": [],
   "source": []
  },
  {
   "cell_type": "code",
   "execution_count": null,
   "metadata": {},
   "outputs": [],
   "source": []
  }
 ],
 "metadata": {
  "kernelspec": {
   "display_name": "Python 3",
   "language": "python",
   "name": "python3"
  },
  "language_info": {
   "codemirror_mode": {
    "name": "ipython",
    "version": 3
   },
   "file_extension": ".py",
   "mimetype": "text/x-python",
   "name": "python",
   "nbconvert_exporter": "python",
   "pygments_lexer": "ipython3",
   "version": "3.8.5"
  }
 },
 "nbformat": 4,
 "nbformat_minor": 4
}

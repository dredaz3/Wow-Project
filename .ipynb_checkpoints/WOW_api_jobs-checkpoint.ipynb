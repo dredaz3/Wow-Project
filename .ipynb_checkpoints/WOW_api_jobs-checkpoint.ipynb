{
 "cells": [
  {
   "cell_type": "markdown",
   "metadata": {},
   "source": [
    "# My Api practice for Wow project"
   ]
  },
  {
   "cell_type": "markdown",
   "metadata": {},
   "source": [
    "## import packages request and pprint"
   ]
  },
  {
   "cell_type": "code",
   "execution_count": 1,
   "metadata": {},
   "outputs": [],
   "source": [
    "import pandas as pd\n",
    "import json\n",
    "import requests\n",
    "import pprint"
   ]
  },
  {
   "cell_type": "markdown",
   "metadata": {},
   "source": [
    "## using requests.get() from the request package we'll be able to access api for github job making the \"description and pages dynamic (ex: description = 'description=ruby' page = 'page=') and replacing these in the HTTP wiht {} i'll be able to access the site in real time."
   ]
  },
  {
   "cell_type": "code",
   "execution_count": 2,
   "metadata": {},
   "outputs": [
    {
     "ename": "IndentationError",
     "evalue": "unexpected indent (<ipython-input-2-1ed89b1aea26>, line 6)",
     "output_type": "error",
     "traceback": [
      "\u001b[1;36m  File \u001b[1;32m\"<ipython-input-2-1ed89b1aea26>\"\u001b[1;36m, line \u001b[1;32m6\u001b[0m\n\u001b[1;33m    requests.get('https://jobs.github.com/positions.json?{description}&{pages=2}'),\u001b[0m\n\u001b[1;37m    ^\u001b[0m\n\u001b[1;31mIndentationError\u001b[0m\u001b[1;31m:\u001b[0m unexpected indent\n"
     ]
    }
   ],
   "source": [
    "description = 'description=ruby'\n",
    "page = 'page='\n",
    "# r= request.get('https://jobs.github.com/positions.json?description=ruby&page=1')\n",
    "\n",
    "r=      requests.get('https://jobs.github.com/positions.json?{description}&{pages}'),\n",
    "        requests.get('https://jobs.github.com/positions.json?{description}&{pages=2}'),\n",
    "        requests.get('https://jobs.github.com/positions.json?{description}&{pages=3}'),\n",
    "        requests.get('https://jobs.github.com/positions.json?{description}&{pages=4}')\n"
   ]
  },
  {
   "cell_type": "markdown",
   "metadata": {},
   "source": [
    "## calling the pprint package and using the pprint function in that package along with the .json() from the requests package we are able to print the contents of the web page."
   ]
  },
  {
   "cell_type": "code",
   "execution_count": null,
   "metadata": {},
   "outputs": [],
   "source": [
    "# pprint.pprint(r.json())"
   ]
  },
  {
   "cell_type": "markdown",
   "metadata": {},
   "source": [
    "\n",
    "## some example code access the list of dicts for the api"
   ]
  },
  {
   "cell_type": "code",
   "execution_count": null,
   "metadata": {},
   "outputs": [],
   "source": [
    "# pprint.pprint(r.json()[1]['company'])\n",
    "# pprint.pprint(r.json()[1]['location'])\n",
    "# pprint.pprint(r.json()[1]['url'])\n"
   ]
  },
  {
   "cell_type": "markdown",
   "metadata": {},
   "source": [
    "\n",
    "\n",
    "## For loop to iterate the data received from Api and parse the data i want to work with (company, title, location and url)"
   ]
  },
  {
   "cell_type": "code",
   "execution_count": null,
   "metadata": {
    "scrolled": true
   },
   "outputs": [],
   "source": [
    "search = []\n",
    "title = 'title'\n",
    "company = 'company'\n",
    "url = 'url'\n",
    "location = 'location'\n",
    "\n",
    "for HPS in r.json():\n",
    "       \n",
    "\n",
    "\n",
    "        HPS[company],\n",
    "        HPS[title],\n",
    "        HPS[location],\n",
    "        HPS[url]\n",
    "        \n",
    "        results = {\n",
    "        \"Company\" : HPS[company],\n",
    "        'Title': HPS[title],\n",
    "        \"Location\": HPS[location],\n",
    "         'Url': HPS[url]\n",
    "        }\n",
    "        search.append(results)       \n",
    "        \n",
    "        \n",
    "result = pd.json(search)\n",
    "result.to_json('Jobs_GitHub.json')\n",
    "\n",
    "\n",
    "    \n",
    "# print(r.json()[0][title],r.json()[0][company],r.json()[HPS][url],r.json()[0][location])      \n",
    "#     print(r.json()[0]['title'],r.json()[0]['company'],r.json()[0]['url'],r.json()[0]['location'])\n",
    "# print(r.json()[1]['title'],r.json()[1]['company'],r.json()[1]['url'],r.json()[1]['location'])\n",
    "#     break"
   ]
  },
  {
   "cell_type": "code",
   "execution_count": null,
   "metadata": {},
   "outputs": [],
   "source": [
    "print(search)"
   ]
  },
  {
   "cell_type": "code",
   "execution_count": null,
   "metadata": {},
   "outputs": [],
   "source": []
  },
  {
   "cell_type": "code",
   "execution_count": null,
   "metadata": {},
   "outputs": [],
   "source": []
  },
  {
   "cell_type": "code",
   "execution_count": null,
   "metadata": {},
   "outputs": [],
   "source": []
  }
 ],
 "metadata": {
  "kernelspec": {
   "display_name": "Python 3",
   "language": "python",
   "name": "python3"
  },
  "language_info": {
   "codemirror_mode": {
    "name": "ipython",
    "version": 3
   },
   "file_extension": ".py",
   "mimetype": "text/x-python",
   "name": "python",
   "nbconvert_exporter": "python",
   "pygments_lexer": "ipython3",
   "version": "3.8.3"
  }
 },
 "nbformat": 4,
 "nbformat_minor": 4
}
